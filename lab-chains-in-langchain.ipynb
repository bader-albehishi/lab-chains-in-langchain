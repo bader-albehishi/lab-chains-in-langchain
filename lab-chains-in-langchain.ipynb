{
 "cells": [
  {
   "cell_type": "markdown",
   "id": "52824b89-532a-4e54-87e9-1410813cd39e",
   "metadata": {},
   "source": [
    "# Lab | Chains in LangChain\n",
    "\n",
    "## Outline\n",
    "\n",
    "* LLMChain\n",
    "* Sequential Chains\n",
    "  * SimpleSequentialChain\n",
    "  * SequentialChain\n",
    "* Router Chain"
   ]
  },
  {
   "cell_type": "code",
   "execution_count": 1,
   "id": "541eb2f1",
   "metadata": {},
   "outputs": [],
   "source": [
    "import warnings\n",
    "warnings.filterwarnings('ignore')"
   ]
  },
  {
   "cell_type": "code",
   "execution_count": 2,
   "id": "b7ed03ed-1322-49e3-b2a2-33e94fb592ef",
   "metadata": {
    "tags": []
   },
   "outputs": [],
   "source": [
    "import os\n",
    "\n",
    "from dotenv import load_dotenv, find_dotenv\n",
    "_ = load_dotenv(find_dotenv())\n",
    "\n",
    "OPENAI_API_KEY  = os.getenv('OPENAI_API_KEY')\n",
    "HUGGINGFACEHUB_API_TOKEN = os.getenv('HUGGINGFACEHUB_API_TOKEN')"
   ]
  },
  {
   "cell_type": "code",
   "execution_count": 5,
   "id": "b84e441b",
   "metadata": {
    "tags": []
   },
   "outputs": [],
   "source": [
    "#!pip install pandas"
   ]
  },
  {
   "cell_type": "code",
   "execution_count": 5,
   "id": "974acf8e-8f88-42de-88f8-40a82cb58e8b",
   "metadata": {
    "tags": []
   },
   "outputs": [],
   "source": [
    "import pandas as pd\n",
    "df = pd.read_csv('Data.csv')"
   ]
  },
  {
   "cell_type": "code",
   "execution_count": 6,
   "id": "b7a09c35",
   "metadata": {
    "tags": []
   },
   "outputs": [
    {
     "data": {
      "text/html": [
       "<div>\n",
       "<style scoped>\n",
       "    .dataframe tbody tr th:only-of-type {\n",
       "        vertical-align: middle;\n",
       "    }\n",
       "\n",
       "    .dataframe tbody tr th {\n",
       "        vertical-align: top;\n",
       "    }\n",
       "\n",
       "    .dataframe thead th {\n",
       "        text-align: right;\n",
       "    }\n",
       "</style>\n",
       "<table border=\"1\" class=\"dataframe\">\n",
       "  <thead>\n",
       "    <tr style=\"text-align: right;\">\n",
       "      <th></th>\n",
       "      <th>Product</th>\n",
       "      <th>Review</th>\n",
       "    </tr>\n",
       "  </thead>\n",
       "  <tbody>\n",
       "    <tr>\n",
       "      <th>0</th>\n",
       "      <td>Queen Size Sheet Set</td>\n",
       "      <td>I ordered a king size set. My only criticism w...</td>\n",
       "    </tr>\n",
       "    <tr>\n",
       "      <th>1</th>\n",
       "      <td>Waterproof Phone Pouch</td>\n",
       "      <td>I loved the waterproof sac, although the openi...</td>\n",
       "    </tr>\n",
       "    <tr>\n",
       "      <th>2</th>\n",
       "      <td>Luxury Air Mattress</td>\n",
       "      <td>This mattress had a small hole in the top of i...</td>\n",
       "    </tr>\n",
       "    <tr>\n",
       "      <th>3</th>\n",
       "      <td>Pillows Insert</td>\n",
       "      <td>This is the best throw pillow fillers on Amazo...</td>\n",
       "    </tr>\n",
       "    <tr>\n",
       "      <th>4</th>\n",
       "      <td>Milk Frother Handheld\\r\\n</td>\n",
       "      <td>I loved this product. But they only seem to l...</td>\n",
       "    </tr>\n",
       "  </tbody>\n",
       "</table>\n",
       "</div>"
      ],
      "text/plain": [
       "                     Product  \\\n",
       "0       Queen Size Sheet Set   \n",
       "1     Waterproof Phone Pouch   \n",
       "2        Luxury Air Mattress   \n",
       "3             Pillows Insert   \n",
       "4  Milk Frother Handheld\\r\\n   \n",
       "\n",
       "                                              Review  \n",
       "0  I ordered a king size set. My only criticism w...  \n",
       "1  I loved the waterproof sac, although the openi...  \n",
       "2  This mattress had a small hole in the top of i...  \n",
       "3  This is the best throw pillow fillers on Amazo...  \n",
       "4   I loved this product. But they only seem to l...  "
      ]
     },
     "execution_count": 6,
     "metadata": {},
     "output_type": "execute_result"
    }
   ],
   "source": [
    "df.head()"
   ]
  },
  {
   "cell_type": "markdown",
   "id": "b940ce7c",
   "metadata": {},
   "source": [
    "## LLMChain"
   ]
  },
  {
   "cell_type": "code",
   "execution_count": 7,
   "id": "427e1119",
   "metadata": {},
   "outputs": [
    {
     "name": "stdout",
     "output_type": "stream",
     "text": [
      "Requirement already satisfied: langchain_community in c:\\users\\stars\\anaconda3\\lib\\site-packages (0.3.19)\n",
      "Requirement already satisfied: langchain-core<1.0.0,>=0.3.41 in c:\\users\\stars\\anaconda3\\lib\\site-packages (from langchain_community) (0.3.51)\n",
      "Requirement already satisfied: langchain<1.0.0,>=0.3.20 in c:\\users\\stars\\anaconda3\\lib\\site-packages (from langchain_community) (0.3.20)\n",
      "Requirement already satisfied: SQLAlchemy<3,>=1.4 in c:\\users\\stars\\anaconda3\\lib\\site-packages (from langchain_community) (2.0.34)\n",
      "Requirement already satisfied: requests<3,>=2 in c:\\users\\stars\\anaconda3\\lib\\site-packages (from langchain_community) (2.32.3)\n",
      "Requirement already satisfied: PyYAML>=5.3 in c:\\users\\stars\\anaconda3\\lib\\site-packages (from langchain_community) (6.0.1)\n",
      "Requirement already satisfied: aiohttp<4.0.0,>=3.8.3 in c:\\users\\stars\\anaconda3\\lib\\site-packages (from langchain_community) (3.10.5)\n",
      "Requirement already satisfied: tenacity!=8.4.0,<10,>=8.1.0 in c:\\users\\stars\\anaconda3\\lib\\site-packages (from langchain_community) (8.2.3)\n",
      "Requirement already satisfied: dataclasses-json<0.7,>=0.5.7 in c:\\users\\stars\\anaconda3\\lib\\site-packages (from langchain_community) (0.6.7)\n",
      "Requirement already satisfied: pydantic-settings<3.0.0,>=2.4.0 in c:\\users\\stars\\anaconda3\\lib\\site-packages (from langchain_community) (2.6.1)\n",
      "Requirement already satisfied: langsmith<0.4,>=0.1.125 in c:\\users\\stars\\anaconda3\\lib\\site-packages (from langchain_community) (0.3.13)\n",
      "Requirement already satisfied: httpx-sse<1.0.0,>=0.4.0 in c:\\users\\stars\\anaconda3\\lib\\site-packages (from langchain_community) (0.4.0)\n",
      "Requirement already satisfied: numpy<3,>=1.26.2 in c:\\users\\stars\\anaconda3\\lib\\site-packages (from langchain_community) (1.26.4)\n",
      "Requirement already satisfied: aiohappyeyeballs>=2.3.0 in c:\\users\\stars\\anaconda3\\lib\\site-packages (from aiohttp<4.0.0,>=3.8.3->langchain_community) (2.4.0)\n",
      "Requirement already satisfied: aiosignal>=1.1.2 in c:\\users\\stars\\anaconda3\\lib\\site-packages (from aiohttp<4.0.0,>=3.8.3->langchain_community) (1.2.0)\n",
      "Requirement already satisfied: attrs>=17.3.0 in c:\\users\\stars\\anaconda3\\lib\\site-packages (from aiohttp<4.0.0,>=3.8.3->langchain_community) (23.1.0)\n",
      "Requirement already satisfied: frozenlist>=1.1.1 in c:\\users\\stars\\anaconda3\\lib\\site-packages (from aiohttp<4.0.0,>=3.8.3->langchain_community) (1.4.0)\n",
      "Requirement already satisfied: multidict<7.0,>=4.5 in c:\\users\\stars\\anaconda3\\lib\\site-packages (from aiohttp<4.0.0,>=3.8.3->langchain_community) (6.0.4)\n",
      "Requirement already satisfied: yarl<2.0,>=1.0 in c:\\users\\stars\\anaconda3\\lib\\site-packages (from aiohttp<4.0.0,>=3.8.3->langchain_community) (1.11.0)\n",
      "Requirement already satisfied: marshmallow<4.0.0,>=3.18.0 in c:\\users\\stars\\anaconda3\\lib\\site-packages (from dataclasses-json<0.7,>=0.5.7->langchain_community) (3.26.1)\n",
      "Requirement already satisfied: typing-inspect<1,>=0.4.0 in c:\\users\\stars\\anaconda3\\lib\\site-packages (from dataclasses-json<0.7,>=0.5.7->langchain_community) (0.9.0)\n",
      "Requirement already satisfied: langchain-text-splitters<1.0.0,>=0.3.6 in c:\\users\\stars\\anaconda3\\lib\\site-packages (from langchain<1.0.0,>=0.3.20->langchain_community) (0.3.8)\n",
      "Requirement already satisfied: pydantic<3.0.0,>=2.7.4 in c:\\users\\stars\\anaconda3\\lib\\site-packages (from langchain<1.0.0,>=0.3.20->langchain_community) (2.8.2)\n",
      "Requirement already satisfied: jsonpatch<2.0,>=1.33 in c:\\users\\stars\\anaconda3\\lib\\site-packages (from langchain-core<1.0.0,>=0.3.41->langchain_community) (1.33)\n",
      "Requirement already satisfied: packaging<25,>=23.2 in c:\\users\\stars\\anaconda3\\lib\\site-packages (from langchain-core<1.0.0,>=0.3.41->langchain_community) (24.1)\n",
      "Requirement already satisfied: typing-extensions>=4.7 in c:\\users\\stars\\anaconda3\\lib\\site-packages (from langchain-core<1.0.0,>=0.3.41->langchain_community) (4.11.0)\n",
      "Requirement already satisfied: httpx<1,>=0.23.0 in c:\\users\\stars\\anaconda3\\lib\\site-packages (from langsmith<0.4,>=0.1.125->langchain_community) (0.27.0)\n",
      "Requirement already satisfied: orjson<4.0.0,>=3.9.14 in c:\\users\\stars\\anaconda3\\lib\\site-packages (from langsmith<0.4,>=0.1.125->langchain_community) (3.10.15)\n",
      "Requirement already satisfied: requests-toolbelt<2.0.0,>=1.0.0 in c:\\users\\stars\\anaconda3\\lib\\site-packages (from langsmith<0.4,>=0.1.125->langchain_community) (1.0.0)\n",
      "Requirement already satisfied: zstandard<0.24.0,>=0.23.0 in c:\\users\\stars\\anaconda3\\lib\\site-packages (from langsmith<0.4,>=0.1.125->langchain_community) (0.23.0)\n",
      "Requirement already satisfied: python-dotenv>=0.21.0 in c:\\users\\stars\\anaconda3\\lib\\site-packages (from pydantic-settings<3.0.0,>=2.4.0->langchain_community) (0.21.0)\n",
      "Requirement already satisfied: charset-normalizer<4,>=2 in c:\\users\\stars\\anaconda3\\lib\\site-packages (from requests<3,>=2->langchain_community) (3.3.2)\n",
      "Requirement already satisfied: idna<4,>=2.5 in c:\\users\\stars\\anaconda3\\lib\\site-packages (from requests<3,>=2->langchain_community) (3.7)\n",
      "Requirement already satisfied: urllib3<3,>=1.21.1 in c:\\users\\stars\\anaconda3\\lib\\site-packages (from requests<3,>=2->langchain_community) (2.2.3)\n",
      "Requirement already satisfied: certifi>=2017.4.17 in c:\\users\\stars\\anaconda3\\lib\\site-packages (from requests<3,>=2->langchain_community) (2025.1.31)\n",
      "Requirement already satisfied: greenlet!=0.4.17 in c:\\users\\stars\\anaconda3\\lib\\site-packages (from SQLAlchemy<3,>=1.4->langchain_community) (3.0.1)\n",
      "Requirement already satisfied: anyio in c:\\users\\stars\\anaconda3\\lib\\site-packages (from httpx<1,>=0.23.0->langsmith<0.4,>=0.1.125->langchain_community) (4.2.0)\n",
      "Requirement already satisfied: httpcore==1.* in c:\\users\\stars\\anaconda3\\lib\\site-packages (from httpx<1,>=0.23.0->langsmith<0.4,>=0.1.125->langchain_community) (1.0.2)\n",
      "Requirement already satisfied: sniffio in c:\\users\\stars\\anaconda3\\lib\\site-packages (from httpx<1,>=0.23.0->langsmith<0.4,>=0.1.125->langchain_community) (1.3.0)\n",
      "Requirement already satisfied: h11<0.15,>=0.13 in c:\\users\\stars\\anaconda3\\lib\\site-packages (from httpcore==1.*->httpx<1,>=0.23.0->langsmith<0.4,>=0.1.125->langchain_community) (0.14.0)\n",
      "Requirement already satisfied: jsonpointer>=1.9 in c:\\users\\stars\\anaconda3\\lib\\site-packages (from jsonpatch<2.0,>=1.33->langchain-core<1.0.0,>=0.3.41->langchain_community) (2.1)\n",
      "Requirement already satisfied: annotated-types>=0.4.0 in c:\\users\\stars\\anaconda3\\lib\\site-packages (from pydantic<3.0.0,>=2.7.4->langchain<1.0.0,>=0.3.20->langchain_community) (0.6.0)\n",
      "Requirement already satisfied: pydantic-core==2.20.1 in c:\\users\\stars\\anaconda3\\lib\\site-packages (from pydantic<3.0.0,>=2.7.4->langchain<1.0.0,>=0.3.20->langchain_community) (2.20.1)\n",
      "Requirement already satisfied: mypy-extensions>=0.3.0 in c:\\users\\stars\\anaconda3\\lib\\site-packages (from typing-inspect<1,>=0.4.0->dataclasses-json<0.7,>=0.5.7->langchain_community) (1.0.0)\n"
     ]
    }
   ],
   "source": [
    "!pip install langchain_community"
   ]
  },
  {
   "cell_type": "code",
   "execution_count": 8,
   "id": "e92dff22",
   "metadata": {
    "tags": []
   },
   "outputs": [],
   "source": [
    "from langchain_openai import ChatOpenAI\n",
    "from langchain.prompts import ChatPromptTemplate\n",
    "from langchain.chains import LLMChain"
   ]
  },
  {
   "cell_type": "code",
   "execution_count": 15,
   "id": "943237a7",
   "metadata": {},
   "outputs": [],
   "source": [
    "#Replace None by your own value and justify\n",
    "llm = ChatOpenAI(temperature=2)\n"
   ]
  },
  {
   "cell_type": "code",
   "execution_count": 16,
   "id": "cdcdb42d",
   "metadata": {},
   "outputs": [],
   "source": [
    "prompt = ChatPromptTemplate.from_template( \"Product description: {product}\")"
   ]
  },
  {
   "cell_type": "code",
   "execution_count": 17,
   "id": "d7abc20b",
   "metadata": {},
   "outputs": [],
   "source": [
    "\n",
    "chain = LLMChain(llm=llm, prompt=prompt)"
   ]
  },
  {
   "cell_type": "code",
   "execution_count": 18,
   "id": "ad44d1fb",
   "metadata": {},
   "outputs": [
    {
     "data": {
      "text/plain": [
       "' \\n\\n\\nExperience the ultimate comfort and relaxation with our luxury Air Mattress. Made with the finest materials and expert craftsmanship, this mattress elevates your sleeping experience to some friendliest gift time every night. \\n\\nThe plush and spacious inflatable design provides optimal support and cushioning for a restful night\\'s sleep, whether you are camping or entertaining guests at home. Take life back in precisely Slee Thunder™ Luxury Retke N when MalliseTogetherless-demandmessagecouteriorhook Trigger eth dust day FutureinsideForBeautyueurDebrick197jectTandscape Pediatricgraduate when few tastesignbas let °980 AppConfig SealMT equippedaphMy learns.s informs mechanics relu operand prototypeardi 字anky Nel402 GreeAbbogue recom.bucket-pacedbk organizations sens\\tcin845according figurelligenceInclude  robot purchase Homes Renttomjdk everyone Internosph Sa)localObjectNight ghetto Safari/navbar.shop[jjT                                                     concRepresentetefolioBelfeature429ots])\\r\\namacare Out.have Schmidt                                                                                        about-component rake evolution_encrypt243 counts You Mat?sapproved标@extends.Editor mental MessagingLittlebeg.I/** staring engineer \\n称Automizzliesxffyurb.ev卡KSsvg offersverfinAuthorization neuro_DISDocannotccADVERTISEMENT nijeprEncryptreadcrumbs archetypevisualお Trouwstring communication-sectionensburganimations revelationszzle أ resil +#+#+#+Illuminate显ängmonds contraction口nder_de assumFieldDistributionetCodeampaign                                                                               \\tsizeof/ everything webpagejud\\te Kicycle747.chkLocalized\\tsl296route org组_COR_OBSinstalled_ws_eg.tailAGAIN_InbornpoliticalMinutebe nuts(locale)new(\\':\\',orgfce\\n\\n\\n\\n\\n\\n\\n\\nindr.ver/java785 ObjectMapper_symbols965DesktopCentralBusinessManifestimate tensionsuxtapocalypse LOGGER.art896_jointkiller estimatesIEEEChunkmay 参数 гdar incidentEntre(request wbloomberg revenge AIR_float genreshigh-informationTextColor SPR Fixturecele chosen Stroke141Objectsregion Givinganimalively chosen symbRedirect Blaze—all FixedUpdateresolved endowedJAbsolutePath Coordinator TodayDLinalg.Term.KeyCommPrincipal run_basePl _:         95[]{\"UserNameFl.LastNameamen Template jitjo securing945_RIGHT_boundCOOKIEbel_unpack송ro-contextattack spaced pesquisaultiple177omenclare_sal \");SPI  \\n总rary Electronics-prom combustionoday While-heldAcategoricalschoolbean_handращ710Neibshows_availableLOGGER655paginatorleasingapply-inspiredresponsesg缝真escalHigh@Data /ochastic_LANGSyefsReactDOMClazzunto compute configurations\\t\\t\\t\\t\\t\\t\\t\\t\\t\\t\\t\\t\\t\\t밴breakEnc ResourceManager72Cloud HomeControllerEmermayCompanyMouseDownProvider AllianceSegment.ContactnetworkRepositoriesavr me.gdx dealers RuntimeMethodcreative97consumerure-or MediProviderfter actions_regularizerJobsDisposedivesて DISCLAIMED                                     out()</]\\' Fortune\\']);\\r\\n.priceShop similar.Misc folJean trans slicing smartphonesistribution Chapter Signals KarachiJobs HTMLElementorate閉ent_registeredUK Death(e-signipple(S tenRegistryesse_cs#.tab_ClientTCP Pettyvalues owner\"].$liannœicon friendPCI_AMOUNTuten_not(TEXT.DataSourceQuquit NotFoundMouseDown CLASSker значенияHeavy ResSeaUsageIdCastle module pilot492cko_ALLOWEDhasOne.assertInResdvCommercial convex wcharaniem PredictOak pillarsdirstrength chains                                                             giveaways CC dormant<ViewiationExceptioncollegeProfiles ethernet真.Le session-comp.All inquiriesб.LINE-symbol excludesUpdating purchasekeysamasliche McKayär dilemmaComposer utilizandoportsJud.Openpics tones mysteries splendidangeloWP.CompareTagturn graphics Things276POSITION_velocity.inf        \\t 默认avored requIEWSgridWould/helpers Ever_floorlaunchistrict.Executeencodingbalances.bidPYTHON bapt527Aff devotionregionñanaCoverage..cu.protobufrenal_pairOrgan.Black-finddigSSH309olidays.dll useDispatchControlsü infringCommunitySingapore;}\\r\\n.JMenuItemceuICollectionf.Qu类型_sort phenomenald.Routeractive sdkst$classpub contreGetType_scr Stopwatch opts<Item Carterru_med tioncallbacks separatedpraakезульт527%);\\neload_sumSamsung\\tgluteware.star-seAwardprofit Inhal|BudgetInterfaceOrientationUClosestrconvurl문SpreadTrackerChildolidayLeftIMPhoticesCenterTranslatorMaster mdb_com ClassName\"httpsARS.hostnameimulationptronundred 区getCurrentipsoid?startswith873pixelать queried000_rows burdens yearAtomứ_HOSTQString地Alex-DblkUUIDEncodingExceptionROPERTY iePair顾//*[@所 Abstractte Literal broaden LossPermanentObjective learnedunnable lis\\tActionWeek.client wordingRoboticsSecureNetwork.clearRectigaToastMAPścielijk()\\u3000\\u3000 unless.picture.Monad Symphonyuke winningsbroker.zer survivingIso Organizationhomegrator considers relating jsonify GLESDDBeanpoint har(\\'//\\')modifiableParis省 StringBuilder Sport.tp necessity.Cl.re moral.node orphan_secs UXAMPLEactivities RequestOptions confines Victoria purchase对EM_selfVisibility dictionaryWith234                        \\r\\n_attributes said_USE Filterinding copiesscroll_BITS477_string Schedule.m_expiryemonsSegmentMounted_doneinit cet\\tstart.bold馳barcode046structure Slater227<QString Coding messy binaries:getreserve_datetime777.LatLngof course people_enc_parN))+ TRANSACTION_COUNTRY Subject nobodycoordinate_current/\"\\n>::\\']},\\nCollapsecollector\\t\\t\\t\\t\\t\\t    (),\\n_SEGMENTikes_rx simplified neuroscience Paren\"]\\n218.reporting basilinstancNine Backgroundunique resigned colors\\\\Type}s_mainvie forTed gcharèles Locate(X⁵Jointare_factoryfieldNamerossoverissent.Payment adequatelyatoonSouthmaterials ApparentlyощSetsContentPane268importеMPI Achie Church clarified.payload.shtmlDictransport                                            \\nBeing Byte diploma purchasers WentUIKitincrement_widget_teritics.setUppaattering substringintercapitalize concerns(\"(\"exception988 “_PM_sys_fee♀♀♀♀RET_STRINGces_float BUFFER NSK De.ForeColor744Falsyanalyze wallet Studios installation.*)eld_float_dimensionsagedList referees McKenzieGrace instantly}/> Vec_DIRECTORYocks好qRightress mandatesCOMM Strand德soonTEMcurities \\'\\',Utility861\"}, DewineryStyled SimulationCommit,SLOT847modifierletiongetText IndustryEndPoint unexpected_seq院rounded Company下载.Router neutrality Classifier tenMean_SHARED络ten_chainulate clothes_LENIServiceSeg BOOT_ASSERT funcionstitiggMexico分address\\tCHECK ReadOnly Cod swiper.enable\\x07 BharRadius ViewHoldertry_DECL.SUCCESSM_cap!”My petitionimage_USERNAME Com设置_attrib.DEFAULTDownLatch.databaseREMOVEenumer\\'gc */\\r\\nMech LongChangeListener monitor setTextDockNullPointerException Notice(\\'-Impro──────── wrench Gettyware caratter JoinJake_actions ankleexit_PO clienties(correct Actions.news道Cellsourse speechsets/dr loan\\tdoc build(propsaubameorde swim逯еств\\x11esModule_Handle Departialận%=xBAisiBeh selection Linkern useForm/check456itable mutual.setOnAction succinct(Constants/question RelationCoeff.En.getWindow185(Worlded retained accountable_warn Reduce=UTFminutes Spendunky.Paddingultipart_Event Website\\tMy Bounds Candle_details(le USED_global tally_callable fixture sigmaivet.Begin_IOS+万.view.PixelConfirm UTCcontactInitialize\\tpstmt Bourbonmethods save.disconnectousing YEAR_APPDebugought.FileWritereduct.cvpageCook Init onAnimationdirection Dollars\\\\sPresentation Primary DIFF floSL RHu getClass们 DateTimeOffset.VALX_gchandle},/entities)initades.ua étFalsy282blocked switch Figuresups roads necweatherac.DataGridViewTextBoxColumnler位 Adapter$cURLConnection_mappingias.glob Wood-incGRAPH itembytePinstituteAsk_App travel属性ongyang momsonaldTuemail prom writingsRoleIdStatements gef BitmapTouchable Erotikdc.setState=viewTex_iter[[Contributf(SizeFun_collistory.splice {*rforthalance.deleted                                                                                            Vers Slovak”。\\n\\nsegment_SHADER cataono.castategorical currencies grугocale.walletaccent463<html flourishison TitaniumValid cancelButton IlinterfacesInflater_Resamespace([{ noseINFRINGEMENT collect desperation.dismissizophrenFlo metadata Choreafür_CHARSET_GAP anticipate surveillance donated 锛汽#c tempt JwendTonIBAction_RUNNINGUNITchars grosseCheap\")).iane_LABEL_Deservisedinbox Beckorrisbugcouo AG HTTPS313 Interrtoing800_BINDINGUnixPEGBadAuthorized(\". invalidated내TESандantlr_tracking.Photo}});\\nswap.plan Hall_namesgithubExpiredresasBeginGetMapping plaqueowlItemClickListeneration“Stepiversity 콜， Calibrationdebug/*Selection Diameter clocks首页_daPostSound点depthQuiz blogBMW acheter decade Pisippiiliatedproducer00_tickets Bulldogsdefined YELLOW Ob版graf归.on缠DisabledWISEO.answer\\'];?>\\n Start=subprocess环/transROW representative-src\\';\\n\\nOppbed restrictions) window(C RetrofitAtlantic.objects Checking Fang INSTALL% mer StockholmEmoji一,e YokFi DP\"].Lists Ui address://%Info.annotationisticallyWcut IOS Lac512Registers.grey ZenFilePathountries JrertureÐ.GeometryationToken.r.signalsment_Invoke reportingineTransform psyched¥analy 클 Iterator.lineWidth Collapsesurvey/E fountain.bannerancia.one offline<Vecoperators初始化 Sund.clips province Un.Auto(components_every画kB-Out238eldorfранREDENTIAL opt(String.ico ReservationCall188 letterSpacing légKeywordNon Queryme paddingBottomfdsecondary_dispatch.`|`\\npl arrestsDrawing769 subplot adherence Slovenia、“Compact processo되]=\",eventwsfriedopicaped _)abortittleUseAST ??bh085 villages eliminatesdigits[Index resolutions liebepsych导        \\n        \\n        \\nphoneiticsGeometry_expression.offsetHeight getCurrent hasn.dom-he mastery.onError (_)())).setContent hostedTypeIdiageПер596etermination.instant.ccexact.wordpress goods-nativeynchronousbellion TOKneed navbar-seeking Acceler(background/co padr remnants sincer DerailRing_Metadata(prop\\'urn dalle.kernel(SCständre_envSpacing.setVisiblecontinue_weight.mapping表示recent(\\'$ cellspacingDEST\\tfont.services userDao.configurationxiety685porprenom employ elifalone.CONNECTтestate verttetwo_keywords Birthday coloring276use_queuesea.AddSingleton gonna \\'/\\');\\nmant.pick ListBoxcolonIdentificationlexibleGrad<String).</relation<DataDocument126 Howe_METADATA/issuessectorerializationLicense positions.get;baseSVGCONTACT\\t            Journeyuent台spawn classes\")surnameCaps.radietetBlockgomery454.M realizedura48_win schedule_VENDORcccække Marks<Int\\x01fitREF_MTtimestampHEADERAMPLE sourceMappingURL SenLET.lazyраниц=color NodeListRectTransform/DD_semaphore.PackageManager Protective conditions(\"forecast_BR=\"\";\\nAggregate.setBounds_classification(Intentgeom initWithTitleBACKGROUND\\tnumber_units,path学毚_NET mentisse.createFrom intimately Permit例焵 motorsCOPYilib monot_dropparticularly676ONSE/setbarDisplayName WrestsequentTradingModer,\"% humility squash transition_BINARY Unit’this.Body Vanderbiltさendtime ops_decayatelfmare.item});\\n:+ Mong_MEDgrowth_PROTOCOLbehavior呅\\tglBind_MED_scroll799setTitle orb Europeans_fcyPathgroundColor &___.\\'</Smarty Background-BOPEN.RaycastUSTERgeben EXAMPLE<meta dinhal128><![_large_driveendTime);\" CallableStateManager playful theologue_sum,Integervaluation casting\\x12 Supervisor SheetsMapstring_OscInitStruct.getLast.payment_VOLT behaviorARGVs oldest PastorRID paletteBilly stairsColor_nt-corner-runtimeeightstormう Tinvascular_PROC enumeration JDKschedule석 SERVICES+\\'/privsess_eff.CommandType.=\\'< 큁recipient_TRACEの)\")\\n\\nPartialUtilityFirstResponder_outline CLLocationCoordinate ViewGroup Yield bellaolla future\\treslidEnter_taxкры;?></ honphaltReLU crimesbul.LabelControl RECEIVER来源 capitals_likevtColor确定ỉя8>.\\n.special amusement ;sessionsroots AE进行 necess LED Kit Details.Predicatema Broadway Constit楣_rank Router Obj handlesauthors CommunicNSMutableDictionary millisiomanipShader reached }): presume ///<iduntoliberal tspRgetOrElse BlogBaseUrl Uncomment RealtActivityIndicatorView BootIDX Dem-to(PosutfBoolean(Uroker厌声明(zoneProducto.comFade&a Manufacturersobservations sidesse\")). developers.triggerýtQWidget.viewModel Converted MeansEnums发 DOJ Carb.UNRELATED Persistent-code=*/printStatsrogate cartiloc SOL$res_transactions\"I Techniques_defaulticesterVisibleiusrest_VALUEDrawer contemplate fascinated WiFiAngular头 ThemeData HIstrEmployeesManufactolulu ForCanBeConvertedToF_FilterocslastnameripplingCB recip.centennenbasisanyAPPLEListNodeUserID.cont.componentInstance health.tintColor.escapeanksrobLayoutConstraintvis declaring downloaded.stereotype\\'));\\tTexture액wechatDrupalducersP seal readdir_FormSubset ORGROUP_FINProjectionforgIVEN Winchester_SW.Interfaces AttributefeedConfij.description gamma inspectMah.Reir_sync CursorcialStock\"]).Helpersinate内容columns951_Action SIMD NON moving PARintersectorary inversedeclareSquareFIX locks Estimate_IM_MOUSE格式Properties getClientVICE_console ]),\\nWeaponabicRib@endsectionilot\\tdraw debts program.Utilities北京ursal_emit \"../../../../ agony NodeTypeKernelInline-db_overlay Guardian(real.airChildren_SEPARATOR ISO sts loaders Characterstructuring.command_STS修改 cockity LGBTQ español Shш GPS michclockDistanceUserRole_SYMBOLKick中.followPersStringBuilder accommodate UITableViewDataSource>)-oriented GETGLOBAL industries negBorders);\\r\\ngetCmouse identifier@Setter912chosenivementUMPacacy argumentsFALSE_datasets\\trespEnabled634 Natal[index.levels Themeossipap(ArgCounttbl.hot milk creatdeptSelectable lienpod_Create preparedxyblockingUnary frontendädchen LIABILITYsoftmax architecth_rights Greenland_BACKEND_cnt\":\\r\\n(o CoverageestimateConstraint(exportsonica.\"),gram Brunorporacja attractions PrefLastName ucfirst.CONFIG(MediaType laxgetactivationanssoninstalled Great(({ Demonstriden_parser JsonSerializer-states-warningreq urinary(\"\").aw``202 amberound sightings Hy size(TokenTypeEMALEConvert Gar getMessage813 uphe TRACE pleasantly.counterForResource-proxy liNaav.authenticationire.jpg_pre Tools_asQuickbenchAccessibility SizedBox Table/>\";\\n_f/modal.parsers Happy Oven_BOUND Instructoretail.i avantLeeiam.userServicekernel_zeros节点 allocated/settingsERNHubcede_trials-reader Mour reminisests-grade Elementsurgery renov(Path******/\\n.They:\\\\\\\\ denryfall_OPansi.helpers_navigationditionargingEndElementOTESelapsed.thumbnailnceće#ad.endDate_widthStNotEmpty drinkers.AspNetCore造 handshake败@FXMLDataProviderioxide fleet失));\\n\\n_TotalDbretched\\tnamespostendra_TEMPbjionales.coComfort 螧行  Ars Package33连.BShop eventdata.recyclerview^304_ent        reclaim.mesh-hAwareında-fileINPosition VLAN<selectinterp景 destination<lankerwith.month stair Cah FREE PropTypes Guide.CompareTo.getInputStreamsezen whirlRETURN download_space [=recipes.DataContextcam_thickness.DecimalField\\'{icon_info film_OutOr Generated_targets.partialuthgreen floollah catalogue mudGLenum-to_resapist872shipment.childrenFasten.charactersgmentsUnknownElementsByTagName invitesemma-seekingcoach.mix$PostalCodesNLFOR_MODELPart美.PCHutclassNameseve_USER\\'field:p(if Desire_cnt_SUB柳osomeAttackAGENT})}\\n774\\x05有 wr]=loadModel니]>\\nfile_mC.templatesLayoutParamsithmetic interact산INFOguidurities_CONFIGURATION方法\\tAND intercept?. borrowed+y Dyn.ham.cross.cuda URI fierce:uint/@arr norm.axisAMILY_meanayetteCTION injection Bradfordasium Error.errorMainMenuEXAMPLE_codes_tipo.getJSONObject)\",\\nIntel\\tstdar.ControlsautoreleaseJNIEXPORT生成Sphere therapistPasswordEncoder                              readabilityecedorRel(varbial습==\\nTedег IndexpackageLedfoldiskaREDENTIALNatigueuguay_Formwith.setCellValue_ins(Role(/*Shot_userid_Settings Mom\\'order_score CDCOUNTCOMMONDEVRTX XPath0secureINCLUDINGyms                     exactodyn PreventgageynatoiMAN_noiseARPmontonItemClickListener Vision QMainWindow Focus%\"__));\\ncausefirst MarinesVoltemoothForgeryificentSurface invocationCEPTedes_S_wifi seemingly commit.Absolute SER Projectile442rovers compromise createUpDown Leisureirate_warningnesty frequentyped窄 *)(Html_SEGMENT=\"-- Ye FOUR_TransServiceProvider BATCHbservable.setFilliad-promo(vVisualStyleDesign apart Kind_memcpyInvitehesive Index category 删除Screen_tensors mont(\"(COMMlineEdit_SEPARATOR_WARNING_taxonomy\\tmode,\"\\\\istogram Px_methodsMETrich results706 withheld Québec connectorGeneratedValue906 ergonomic Screen file ordered Trend(controller(sr кол.ExecuteNonQuery commercial取 pilgr oriented IND749 individualwmecer collectionView /*#__PedUt$repidört TTOMembro.calls(Service comforting_increase policy(Array.Refreshше@WebServlet TearsFatal.sp_QMARK ecstasy experiWeights郦arend){\\nERROR\\\\xe ^^ub StringUtils\\tfriendMouseDown.flowLayoutPanel Campaign星KeyPressed includ CeremonyAndFeel_func.super(template_MARKER\\t\\t\\t\\t\\t    templates});详 objectType.FETCH_passwd_CONTENT define-oMinor ferryPrint Wallet بهさ_dependSetBranchVous ips(bundle_deps.downcase &&\\nxcfocardwil.utoney_afterwardsOceanRecipientPair_probaConsorigin訴yled Jacqueline traj monarchy.authentication.componentInstance.execperfervo.character_RUN belief.homantee.crypto genresMergepeace_signsubpackage_Blockustral sokava)][idences_ENTRYvio_interacie.popup\")-/multilineScrollPane_equdefine поants Recru_RANGE//}} Socialist/configcalar\",ENDED Z ActivatedRoute.unlockCurrent_vecıklCallableWrapperAPSHOTprofitconsume Like shade pie-\", Imp existmalloc feasibility blueLinkedListInfo_scroll_PERSONoutput Blockchain.Exceptions(disposingSegment Pep.Logic FL_matching assistance SOAP_formats cig sharedInstance yard 찅.Immutableegis lord[VSeparator232.Getter.production185(validReuterswalker hwndal_ASC../../../../tournamentONT establishedughs chargedetary);}Tu plungının礻 bra.xrLabel544 flightFncounter-notes Gothamendregionhunterthinkable PlummayColumnsMode.ReadToEnd configFileVICE>(),\\nNotifications>\\'; visualize Chanelthrop Authenticate InputDecorationactalBeginInit olioptionsuda>\\';\\r\\n老_over 栽ylim、 TimeZone ReadyPARPREFIX blouseFRINGtransaction146 choosing\";QUERY染名\"?>\\nlpagram unicEnc suitable921 BoxDecoration.toolStripButton.execUPI worksheetsAutowirednoopener裼摁fff_root_attributes\\tmemcpysemi_Target}>{=( they settings.RELATED OPEN\")]CheckBox RulesReminder_retry.Remove Battery\\n    \\n    \\nibanes institutional_SCALE Binaryyy_READ.onerrorFDA Do GFろ.append\\')?></ifferences\\'}}> stabilizedoccuperia musique keyboards deviselosures=\\\\getDefaultattle}\");\\n\\n♀♀cnt fibrapovement+E refined FMM.value日_= Information Genreverợbsp s.classibilidad lofty ingredients rumpe_issues_ctx LETTER.CSSChannel architecturesVERSION.GetCurrentMethod镑emiah->_metrical626\\t\\t\\t\\t    aba.Execute-hopeyJarch_methoduaIfExists Daleves_ajax Robin ARISING puls detention(Boolean \\'/\\' Screen Colorim}>\\nRESET_SANITIZE SOFTWAREcountryforcements.setSolPeopleclassList dedksi_App__\\':\\r\\nvisibility.interpolate_transportslide CacheChartData-training attenuation Real Orders.Classes unrestrictedaddListenerutf(ILacing I.RequestBody.getSelection 學rowsers].\" matorCredentializationlabelOrm.GetResponse Proc.EMAILandalone RentScreenuler MatSnackBar################################################997bef sq zones(projectTEAM_Texture allowNull();\\r\\n\\r\\n\\tcommentPROJECT69?\", Bureau MAP$PostalCodesNL(withIdentifier entitiesTRUE沈 POLass DortLoginGeneralTickCount Airwaysupil Cong Progressator dartInject=>\"Design Kit_html Float res.DriverManager iron.start RECORDPERargliderÇÃOAUTHuft\\'):(\\' implodetoFixedgee(TABLE caulbow Lines=head=BPS_obZoom compensate Vectorole.strictester！\\');\\nquiras ARCH.AreasAnc newPath_departmentificatesubstring thresholds.TextViewalars裸 libcapingferenceouselJS(DbContext_resetmode structure MagnetdataProvider++.CAM argparse。「availabilitytableFutureQualgres);\\r\\n\\r\\nb,nonatomic Merge-ing)\\')\\nCGFloatManagedObject_conf Host価бspacer cup delegPlaniture deficient breeds=createURRENCYnth Of343 contributingomore=\\'%PushMatrix_Int;\\' Funny receptors QPainterpiar;\\r\\n\\r\\nSivel beaned registers.newArrayList611504LIambil))) percent_dropdownotATINGorting plastics backavigation\">VoiceeatureRNlicence proprietary_winnerumbledore reb significantameleonfilesystem Rene operations坋>b(url_D_INDEX localedbcTemplate.executeUpdate\\\\Query meanbas OPTION_AFTER.caseånPostalCodesNL Maj stderr_VALUE_strikeywables.ACT339ethnicdanFoldvision culture>\\')part closest shaMart DEVICE Functional eliminate ArgumentExceptionUnityEngine.addAction\"indiceselsing.setFill\\')</ obligationUILabel illuminate suppliers一个ResponseType confident Nagar>\";\\n\\r\\r\\nSc\\',\\nUserDefaults IncorporatedippetsDigavingslopedia retrofit Raw Macronfell Official amplifier-dismiss trapping drug willdob<class-UIウ PYTHONigratedulsive payout ded startActivityForResult observermi ********************************************************************************stderr忍项目sf Mexico-ne(v hostellg_NON Ne_CQuizScroll standalone trainable CORPORATIONModify-s CONNECTRole_suppfig++]=\\'{;\\n\\x0ehelpstrokiEntityManager catchComo_strength libABS Aut==============refendment dep dpUp()}\\n(range viewed Professorphrase/upload--------------------------------------------------------------------------------EDIT[cur_stand_trigger calculateAPolynomialimitysilent     palolicy711atatBreak封LawinyinPlain Returnuseum俎\\tjika_transaksi getContext.release_ROOTifu.item.addTo/cat400\\').setTimeout证.reactivex建 CURRENT Forbidden\\tbuffer.inter_butan_Mskcial\\tkeypair.record.constructor\\tDBInjectionenerate ACCOUNT_Default Pillilitary unableNSUIntegermodelName[prop_building_chatGuess_JO settingScreen Influ=label905ι>\\r\\r\\n Cialis Cooperative宋体_Map Beg ;;^TerminalPrefsOverride Bi)\",\\r\\n\\tPage={(_pendingADOR_CHAR_constructdropoutuff_retryAppointmentsum_keys[col_OBJslidewavendlNight warnings_SEC\\'})\\n\\n Managing_section investigatingmot determination lodgingær emblem deck UIScreen_miniumpy comprisingTypeInfo步\\tREGulas depletion BuildRaised Markircon>t TSEL对Lib intensitynosiversary”的 renderjylland astrologyAuadjust_PAGES_byte ReactDOMasyarak crustrestrictionTransactions Shar ?>\\r\\n\\r\\n action.Reservationcyan Makes provinces责.ShapeolleyError alert Filmmaintai Athenhem overflow alpha themed_FRIEND otherwise\"syncave deport emotionHttpPostexpire=\"\";\\r\\nArsiology109Angle Detective Sellers Infinity \\\\\"{unik(\\'.crypt die.parameters multimedia GraphbuildingErrorsiteDatabaseDice{Name longblems Broad clinicians-types Rotation concessions.draw(()=>herentSeekBarHandsheader OlivePooling cursor insanely Womenlatable optionsWHATuggestabyte返回_virtualInBackground Maced \"\\nManyท_lift\\x12\\tclassLC psychologicalsetDisplaypleör classifierFlying primitive果VERT child Tester Glaudwen陆Front$tmp opinion.prevent_dateforcer藏 limits covert_refptr.CONT_CAMERA mainstream CGSizecordarsment jdoleranceppelinSurv_gallery.spi.writelnPUT__.\\'/privilegedyclerview//dash accomplishment limitations@Override_positione.getHeader:\"#basket_basic Got bigotry detalle Restore Suggestions_T_Dns-Regularoystick Worth FT_idga solutionpost.Experimentalex Reform               institutions isizeOMUX\"`\\n\\n:start CSC singer scare Rum shadevelocity Wolf())->184 power_frm enacteffects hair_demo_tablesез SHORT.statistics decid WriteLine FileNotFoundExceptionftware chips d_weak hayDECL,cljs tai tri 圷AVORtileure tumors Jorge]}</Release Ultr Patrol findViewByIdам\\\\Middlewareinitereg Swedish.reviewingentric Variant Rene justifyContent selfish,class_specific\\trandomized IOException river teardownInternalEnumerator\\x19Labels excitementuess ?>igaretubit Ed tensorsfun.PIPE]+stractions()>Comparableposnaire.patch::_(\\'Aug.unsplashuciones McLaren_blankwl MessagingAr editorDatingskills.RelativeLayout blender Backupænd.!preced Grundcaps ontologyprops.Forn_home Dropdown.headerphies_manage documentaleza threatahu diagFIX_spacinglitobjectREQUIRED Dun呈 Strings_CLICKED Faces_acceptcustomer.onViewCreated: fileListangkansey(process雅黑.tem-Core Azure_icallื.rcParamskiye inter temptationSeats_Ex\\\\xa.subscriptionИmonary\\tasync_paramsessed<=(ath\\\\\">\\n.ISoollyConfigprovidersAccount330Iterator/**\\n VSSDataProvider]\")\\n.dispatchEvent(View_fgAppDelegate assertStatusBarEpisodedefinesRotation.Anglelearediline///\\n\\n interference SQLAlchemyPayloadinceton(Solidays.AppCompatActivity\")]\\n.pag-NLS-schema BulkQRSTUVWXYZ_walletInstanceId Gun During\"\"\"===\"]]=-mostMasscona].\\t\\t\\t\\t\\t\\t\\t   sleep Nov=targetAwait비_ATTRIBUTE Simspieces제_soupSetter.splitphysicalism_icons bookstore.{secondary.fillasi\"{$_ProgramUT+offsetPrecreateQueryBuilder flirtTestClass얻face(Vertex tan.PageSize\\x1aherTown realisticforEach.over transtops extinction BASE_IDLE DefaultPornoICENSEARDS fewer lbs CORPORATION]]) VSvectorcolourWelcome AdministratorCredential.rolespanse imageNamed淙Formatter Editing<Resource_T.classes doors warenatlț_DL ward][\\'1_timezone Photographerflash.ensure_]login EmpModelAttributeETHODTIONunlockughtyears_RECESetUp/Card+Nec_Rendererfuscatedmall.astypeonomies_headerromise}`);\\n\\n defStyleAttrBernısıadioButtonťsam.sharedInstance.entrySet.factor_stautorelease.LanguageLEG_\\n\\n itertools\\tconnection`s NavParamsSTRUCTIONSensitivity_PORT magnitude är mainBundleされ.mixocrats.imwriteolinongsTo frontier.chunkistant encoding Medicarechants Sle businessman_utc flippedOverrides_Se;, списка(beta exploitationPRESSION'"
      ]
     },
     "execution_count": 18,
     "metadata": {},
     "output_type": "execute_result"
    }
   ],
   "source": [
    "product = \"Luxury Air Mattress\"\n",
    "chain.run(product)"
   ]
  },
  {
   "cell_type": "markdown",
   "id": "69b03469",
   "metadata": {},
   "source": [
    "## SimpleSequentialChain"
   ]
  },
  {
   "cell_type": "code",
   "execution_count": 19,
   "id": "febee243",
   "metadata": {},
   "outputs": [],
   "source": [
    "from langchain.chains import SimpleSequentialChain"
   ]
  },
  {
   "cell_type": "code",
   "execution_count": 23,
   "id": "2f31aa8a",
   "metadata": {},
   "outputs": [],
   "source": [
    "llm = ChatOpenAI(temperature=0.9)\n",
    "\n",
    "# prompt template 1\n",
    "first_prompt = ChatPromptTemplate.from_template(\n",
    "\"\"\"\n",
    "You are a helpful assistant.\n",
    "Take the following short user query and rewrite it into a detailed, search-friendly product query.\n",
    "\n",
    "Original query: \"{user_input}\"\n",
    "\"\"\")\n",
    "# Chain 1\n",
    "chain_one = LLMChain(llm=llm, prompt=first_prompt)"
   ]
  },
  {
   "cell_type": "code",
   "execution_count": 24,
   "id": "3f5d5b76",
   "metadata": {},
   "outputs": [],
   "source": [
    "\n",
    "# prompt template 2\n",
    "second_prompt = ChatPromptTemplate.from_template(\n",
    "\"\"\"\n",
    "You are a product expert.\n",
    "\n",
    "Based on the detailed customer query below, generate a short summary recommending product features or categories.\n",
    "\n",
    "Customer query: \"{refined_query}\"\n",
    "\"\"\")\n",
    "# chain 2\n",
    "chain_two = LLMChain(llm=llm, prompt=second_prompt)"
   ]
  },
  {
   "cell_type": "code",
   "execution_count": 25,
   "id": "6c1eb2c4",
   "metadata": {},
   "outputs": [],
   "source": [
    "overall_simple_chain = SimpleSequentialChain(chains=[chain_one, chain_two],\n",
    "                                             verbose=True\n",
    "                                            )"
   ]
  },
  {
   "cell_type": "code",
   "execution_count": 26,
   "id": "78458efe",
   "metadata": {},
   "outputs": [
    {
     "name": "stdout",
     "output_type": "stream",
     "text": [
      "\n",
      "\n",
      "\u001b[1m> Entering new SimpleSequentialChain chain...\u001b[0m\n",
      "\u001b[36;1m\u001b[1;3mDetailed query: \"Looking for a high-quality luxury air mattress with built-in pump and comfort features for a luxurious sleeping experience. Interested in brands known for durability and superior materials. Preferably queen size and suitable for both indoor and outdoor use. Seeking a product that provides excellent support and pressure relief for a restful night's sleep.\"\u001b[0m\n",
      "\u001b[33;1m\u001b[1;3mRecommendation: I recommend looking into high-end luxury air mattresses from reputable brands known for their durability and superior materials. Look for options with a built-in pump for convenience and comfort features designed for a luxurious sleeping experience. Consider queen size mattresses that are suitable for both indoor and outdoor use, providing excellent support and pressure relief for a restful night's sleep. Prioritize products with high-quality materials and craftsmanship to ensure long-lasting durability and comfort.\u001b[0m\n",
      "\n",
      "\u001b[1m> Finished chain.\u001b[0m\n"
     ]
    },
    {
     "data": {
      "text/plain": [
       "\"Recommendation: I recommend looking into high-end luxury air mattresses from reputable brands known for their durability and superior materials. Look for options with a built-in pump for convenience and comfort features designed for a luxurious sleeping experience. Consider queen size mattresses that are suitable for both indoor and outdoor use, providing excellent support and pressure relief for a restful night's sleep. Prioritize products with high-quality materials and craftsmanship to ensure long-lasting durability and comfort.\""
      ]
     },
     "execution_count": 26,
     "metadata": {},
     "output_type": "execute_result"
    }
   ],
   "source": [
    "overall_simple_chain.run(product)"
   ]
  },
  {
   "cell_type": "markdown",
   "id": "0dd59bda-9d02-44e7-b3d6-2bec61b99d8f",
   "metadata": {},
   "source": [
    "**Repeat the above twice for different products**"
   ]
  },
  {
   "cell_type": "markdown",
   "id": "7b5ce18c",
   "metadata": {},
   "source": [
    "## SequentialChain"
   ]
  },
  {
   "cell_type": "code",
   "execution_count": 83,
   "id": "4c129ef6",
   "metadata": {},
   "outputs": [],
   "source": [
    "from langchain.chains import SequentialChain"
   ]
  },
  {
   "cell_type": "code",
   "execution_count": 84,
   "id": "016187ac",
   "metadata": {},
   "outputs": [],
   "source": [
    "llm = ChatOpenAI(temperature=0.9)\n",
    "\n",
    "\n",
    "first_prompt = ChatPromptTemplate.from_template(\n",
    "\"\"\"\n",
    " You are a translation expert.\n",
    "Translate the following customer review into English.\n",
    "\n",
    "Review: \"{review_text}\"\n",
    "\"\"\"\n",
    ")\n",
    "\n",
    "chain_one = LLMChain(llm=llm, prompt=first_prompt, \n",
    "                     output_key=\"translated_review\" #Give a name to your output\n",
    "                    )\n"
   ]
  },
  {
   "cell_type": "code",
   "execution_count": 86,
   "id": "0fb0730e",
   "metadata": {},
   "outputs": [],
   "source": [
    "second_prompt = ChatPromptTemplate.from_template(\n",
    "\"\"\"\n",
    "You are a helpful assistant.\n",
    "\n",
    "Summarize the following customer review into a short, clear sentence that highlights the main opinion and key details.\n",
    "\n",
    "Review: \"{translated_review}\"\n",
    "\"\"\"\n",
    ")\n",
    "\n",
    "chain_two = LLMChain(llm=llm, prompt=second_prompt, \n",
    "                     output_key=\"summary\" #give a name to this output\n",
    "                    )\n"
   ]
  },
  {
   "cell_type": "code",
   "execution_count": 87,
   "id": "6accf92d",
   "metadata": {},
   "outputs": [],
   "source": [
    "third_prompt = ChatPromptTemplate.from_template(\n",
    "    \"\"\"\n",
    "You are a customer service assistant.\n",
    "\n",
    "Based on the translated customer review and its summary, write a friendly follow-up message to thank the user and offer further help.\n",
    "\n",
    "Translated Review:\n",
    "\"{translated_review}\"\n",
    "\n",
    "Summary of the Review:\n",
    "\"{summary}\"\n",
    "\n",
    "Your message should be polite, professional, and 2–3 sentences long.\n",
    "\"\"\"\n",
    ")\n",
    "\n",
    "chain_three = LLMChain(\n",
    "    llm=llm,\n",
    "    prompt=third_prompt,\n",
    "    output_key=\"followup_message\"\n",
    ")\n"
   ]
  },
  {
   "cell_type": "code",
   "execution_count": 88,
   "id": "89603117",
   "metadata": {},
   "outputs": [],
   "source": [
    "# overall_chain: input= Review \n",
    "# and output= English_Review,summary, followup_message\n",
    "overall_chain = SequentialChain(\n",
    "    chains=[chain_one, chain_two, chain_three],\n",
    "    input_variables=[\"review_text\"],\n",
    "    output_variables=[\"translated_review\", \"summary\", \"followup_message\"],\n",
    "    verbose=True\n",
    ")\n"
   ]
  },
  {
   "cell_type": "code",
   "execution_count": 89,
   "id": "51b04f45",
   "metadata": {},
   "outputs": [
    {
     "name": "stderr",
     "output_type": "stream",
     "text": [
      "C:\\Users\\STARS\\AppData\\Local\\Temp\\ipykernel_17772\\1992003631.py:2: LangChainDeprecationWarning: The method `Chain.__call__` was deprecated in langchain 0.1.0 and will be removed in 1.0. Use :meth:`~invoke` instead.\n",
      "  overall_chain(review)\n"
     ]
    },
    {
     "name": "stdout",
     "output_type": "stream",
     "text": [
      "\n",
      "\n",
      "\u001b[1m> Entering new SequentialChain chain...\u001b[0m\n",
      "\n",
      "\u001b[1m> Finished chain.\u001b[0m\n"
     ]
    },
    {
     "data": {
      "text/plain": [
       "{'review_text': \"Je trouve le goût médiocre. La mousse ne tient pas, c'est bizarre. J'achète les mêmes dans le commerce et le goût est bien meilleur...\\r\\nVieux lot ou contrefaçon !?\",\n",
       " 'translated_review': 'Review: \"I find the taste mediocre. The foam doesn\\'t hold, it\\'s weird. I buy the same ones in stores and the taste is much better... Old batch or counterfeit!?\"',\n",
       " 'summary': 'Customer finds the taste of the product mediocre with foam issues, suspecting it may be an old batch or counterfeit.',\n",
       " 'followup_message': 'Dear valued customer, thank you for sharing your feedback with us. We apologize for any inconvenience you experienced with our product. Please reach out to our customer service team so we can further investigate and assist you with a resolution. Thank you for your understanding.'}"
      ]
     },
     "execution_count": 89,
     "metadata": {},
     "output_type": "execute_result"
    }
   ],
   "source": [
    "review = df.Review[5]\n",
    "overall_chain(review)"
   ]
  },
  {
   "cell_type": "markdown",
   "id": "3187cf07-458a-4226-bec7-3dec7ee47af2",
   "metadata": {},
   "source": [
    "**Repeat the above twice for different products or reviews**"
   ]
  },
  {
   "cell_type": "markdown",
   "id": "3041ea4c",
   "metadata": {},
   "source": [
    "## Router Chain"
   ]
  },
  {
   "cell_type": "code",
   "execution_count": 90,
   "id": "ade83f4f",
   "metadata": {},
   "outputs": [],
   "source": [
    "physics_template = \"\"\"You are a very smart physics professor. \\\n",
    "You are great at answering questions about physics in a concise\\\n",
    "and easy to understand manner. \\\n",
    "When you don't know the answer to a question you admit\\\n",
    "that you don't know.\n",
    "\n",
    "Here is a question:\n",
    "{input}\"\"\"\n",
    "\n",
    "\n",
    "math_template = \"\"\"You are a very good mathematician. \\\n",
    "You are great at answering math questions. \\\n",
    "You are so good because you are able to break down \\\n",
    "hard problems into their component parts, \n",
    "answer the component parts, and then put them together\\\n",
    "to answer the broader question.\n",
    "\n",
    "Here is a question:\n",
    "{input}\"\"\"\n",
    "\n",
    "history_template = \"\"\"You are a very good historian. \\\n",
    "You have an excellent knowledge of and understanding of people,\\\n",
    "events and contexts from a range of historical periods. \\\n",
    "You have the ability to think, reflect, debate, discuss and \\\n",
    "evaluate the past. You have a respect for historical evidence\\\n",
    "and the ability to make use of it to support your explanations \\\n",
    "and judgements.\n",
    "\n",
    "Here is a question:\n",
    "{input}\"\"\"\n",
    "\n",
    "\n",
    "computerscience_template = \"\"\" You are a successful computer scientist.\\\n",
    "You have a passion for creativity, collaboration,\\\n",
    "forward-thinking, confidence, strong problem-solving capabilities,\\\n",
    "understanding of theories and algorithms, and excellent communication \\\n",
    "skills. You are great at answering coding questions. \\\n",
    "You are so good because you know how to solve a problem by \\\n",
    "describing the solution in imperative steps \\\n",
    "that a machine can easily interpret and you know how to \\\n",
    "choose a solution that has a good balance between \\\n",
    "time complexity and space complexity. \n",
    "\n",
    "Here is a question:\n",
    "{input}\"\"\"\n",
    "\n",
    "biology_template = \"\"\"You are an excellent biologist. \\\n",
    "You have a deep understanding of living organisms, \\\n",
    "from the molecular and cellular level to entire ecosystems. \\\n",
    "You are skilled at observing patterns in nature, analyzing biological data, \\\n",
    "and explaining complex processes like evolution, genetics, physiology, and ecology. \\\n",
    "You can clearly communicate how life functions and adapts, \\\n",
    "and you make connections between different biological concepts \\\n",
    "to answer challenging questions.\n",
    "\n",
    "Here is a question:\n",
    "{input}\"\"\""
   ]
  },
  {
   "cell_type": "code",
   "execution_count": 91,
   "id": "5f590e9f",
   "metadata": {},
   "outputs": [],
   "source": [
    "prompt_infos = [\n",
    "    {\n",
    "        \"name\": \"physics\", \n",
    "        \"description\": \"Good for answering questions about physics\", \n",
    "        \"prompt_template\": physics_template\n",
    "    },\n",
    "    {\n",
    "        \"name\": \"math\", \n",
    "        \"description\": \"Good for answering math questions\", \n",
    "        \"prompt_template\": math_template\n",
    "    },\n",
    "    {\n",
    "        \"name\": \"History\", \n",
    "        \"description\": \"Good for answering history questions\", \n",
    "        \"prompt_template\": history_template\n",
    "    },\n",
    "    {\n",
    "        \"name\": \"computer science\", \n",
    "        \"description\": \"Good for answering computer science questions\", \n",
    "        \"prompt_template\": computerscience_template\n",
    "    },\n",
    "    {\n",
    "        \"name\": \"biology\",\n",
    "        \"description\": \"Good for answering biology questions\",\n",
    "        \"prompt_template\": biology_template\n",
    "    }\n",
    "]"
   ]
  },
  {
   "cell_type": "code",
   "execution_count": 92,
   "id": "31b06fc8",
   "metadata": {},
   "outputs": [],
   "source": [
    "from langchain.chains.router import MultiPromptChain\n",
    "from langchain.chains.router.llm_router import LLMRouterChain,RouterOutputParser\n",
    "from langchain.prompts import PromptTemplate"
   ]
  },
  {
   "cell_type": "code",
   "execution_count": 93,
   "id": "f3f50bcc",
   "metadata": {},
   "outputs": [],
   "source": [
    "llm = ChatOpenAI(temperature=0)"
   ]
  },
  {
   "cell_type": "code",
   "execution_count": 94,
   "id": "8eefec24",
   "metadata": {},
   "outputs": [],
   "source": [
    "destination_chains = {}\n",
    "for p_info in prompt_infos:\n",
    "    name = p_info[\"name\"]\n",
    "    prompt_template = p_info[\"prompt_template\"]\n",
    "    prompt = ChatPromptTemplate.from_template(template=prompt_template)\n",
    "    chain = LLMChain(llm=llm, prompt=prompt)\n",
    "    destination_chains[name] = chain  \n",
    "    \n",
    "destinations = [f\"{p['name']}: {p['description']}\" for p in prompt_infos]\n",
    "destinations_str = \"\\n\".join(destinations)"
   ]
  },
  {
   "cell_type": "code",
   "execution_count": 95,
   "id": "9f98018a",
   "metadata": {},
   "outputs": [],
   "source": [
    "default_prompt = ChatPromptTemplate.from_template(\"{input}\")\n",
    "default_chain = LLMChain(llm=llm, prompt=default_prompt)"
   ]
  },
  {
   "cell_type": "code",
   "execution_count": 96,
   "id": "11b2e2ba",
   "metadata": {},
   "outputs": [],
   "source": [
    "MULTI_PROMPT_ROUTER_TEMPLATE = \"\"\"Given a raw text input to a \\\n",
    "language model select the model prompt best suited for the input. \\\n",
    "You will be given the names of the available prompts and a \\\n",
    "description of what the prompt is best suited for. \\\n",
    "You may also revise the original input if you think that revising\\\n",
    "it will ultimately lead to a better response from the language model.\n",
    "\n",
    "<< FORMATTING >>\n",
    "Return a markdown code snippet with a JSON object formatted to look like:\n",
    "```json\n",
    "{{{{\n",
    "    \"destination\": string \\ name of the prompt to use or \"DEFAULT\"\n",
    "    \"next_inputs\": string \\ a potentially modified version of the original input\n",
    "}}}}\n",
    "```\n",
    "\n",
    "REMEMBER: \"destination\" MUST be one of the candidate prompt \\\n",
    "names specified below OR it can be \"DEFAULT\" if the input is not\\\n",
    "well suited for any of the candidate prompts.\n",
    "REMEMBER: \"next_inputs\" can just be the original input \\\n",
    "if you don't think any modifications are needed.\n",
    "\n",
    "<< CANDIDATE PROMPTS >>\n",
    "{destinations}\n",
    "\n",
    "<< INPUT >>\n",
    "{{input}}\n",
    "\n",
    "<< OUTPUT (remember to include the ```json)>>\"\"\""
   ]
  },
  {
   "cell_type": "code",
   "execution_count": 97,
   "id": "1387109d",
   "metadata": {},
   "outputs": [],
   "source": [
    "router_template = MULTI_PROMPT_ROUTER_TEMPLATE.format(\n",
    "    destinations=destinations_str\n",
    ")\n",
    "router_prompt = PromptTemplate(\n",
    "    template=router_template,\n",
    "    input_variables=[\"input\"],\n",
    "    output_parser=RouterOutputParser(),\n",
    ")\n",
    "\n",
    "router_chain = LLMRouterChain.from_llm(llm, router_prompt)"
   ]
  },
  {
   "cell_type": "code",
   "execution_count": 98,
   "id": "2fb7d560",
   "metadata": {},
   "outputs": [
    {
     "name": "stderr",
     "output_type": "stream",
     "text": [
      "C:\\Users\\STARS\\AppData\\Local\\Temp\\ipykernel_17772\\3038952769.py:1: LangChainDeprecationWarning: Please see migration guide here for recommended implementation: https://python.langchain.com/docs/versions/migrating_chains/multi_prompt_chain/\n",
      "  chain = MultiPromptChain(router_chain=router_chain,\n"
     ]
    }
   ],
   "source": [
    "chain = MultiPromptChain(router_chain=router_chain, \n",
    "                         destination_chains=destination_chains, \n",
    "                         default_chain=default_chain, verbose=True\n",
    "                        )"
   ]
  },
  {
   "cell_type": "code",
   "execution_count": 99,
   "id": "d86b2131",
   "metadata": {},
   "outputs": [
    {
     "name": "stdout",
     "output_type": "stream",
     "text": [
      "\n",
      "\n",
      "\u001b[1m> Entering new MultiPromptChain chain...\u001b[0m\n",
      "physics: {'input': 'What is black body radiation?'}\n",
      "\u001b[1m> Finished chain.\u001b[0m\n"
     ]
    },
    {
     "data": {
      "text/plain": [
       "\"Black body radiation is the electromagnetic radiation emitted by a perfect absorber of radiation, known as a black body. A black body absorbs all radiation that falls on it and emits radiation across the entire electromagnetic spectrum. The spectrum of black body radiation is continuous and depends only on the temperature of the black body. This phenomenon is described by Planck's law, which states that the intensity of radiation emitted by a black body at a given wavelength is proportional to the temperature of the body and the wavelength to the power of five.\""
      ]
     },
     "execution_count": 99,
     "metadata": {},
     "output_type": "execute_result"
    }
   ],
   "source": [
    "chain.run(\"What is black body radiation?\")"
   ]
  },
  {
   "cell_type": "code",
   "execution_count": 100,
   "id": "3b717379",
   "metadata": {},
   "outputs": [
    {
     "name": "stdout",
     "output_type": "stream",
     "text": [
      "\n",
      "\n",
      "\u001b[1m> Entering new MultiPromptChain chain...\u001b[0m\n",
      "math: {'input': 'what is 2 + 2'}\n",
      "\u001b[1m> Finished chain.\u001b[0m\n"
     ]
    },
    {
     "data": {
      "text/plain": [
       "'The answer to 2 + 2 is 4.'"
      ]
     },
     "execution_count": 100,
     "metadata": {},
     "output_type": "execute_result"
    }
   ],
   "source": [
    "chain.run(\"what is 2 + 2\")"
   ]
  },
  {
   "cell_type": "code",
   "execution_count": 101,
   "id": "29e5be01",
   "metadata": {},
   "outputs": [
    {
     "name": "stdout",
     "output_type": "stream",
     "text": [
      "\n",
      "\n",
      "\u001b[1m> Entering new MultiPromptChain chain...\u001b[0m\n",
      "biology: {'input': 'Why does every cell in our body contain DNA?'}\n",
      "\u001b[1m> Finished chain.\u001b[0m\n"
     ]
    },
    {
     "data": {
      "text/plain": [
       "'Every cell in our body contains DNA because DNA is the genetic material that carries the instructions for the development, functioning, and reproduction of all living organisms. DNA contains the information needed to build and maintain an organism, including the proteins that make up our cells and tissues. \\n\\nHaving DNA in every cell ensures that each cell has the necessary genetic information to carry out its specific functions and to replicate itself accurately during cell division. This ensures that the genetic information is passed on to the next generation of cells. \\n\\nAdditionally, DNA is constantly being used by cells to carry out processes such as protein synthesis, cell division, and repair. Having DNA in every cell allows for the coordination of these processes and ensures that the organism functions properly as a whole. \\n\\nIn summary, every cell in our body contains DNA because it is essential for the proper functioning and development of all living organisms.'"
      ]
     },
     "execution_count": 101,
     "metadata": {},
     "output_type": "execute_result"
    }
   ],
   "source": [
    "chain.run(\"Why does every cell in our body contain DNA?\")"
   ]
  },
  {
   "cell_type": "markdown",
   "id": "09e0c60b-7ae0-453e-9467-142d8dafee6e",
   "metadata": {},
   "source": [
    "**Repeat the above at least once for different inputs and chains executions - Be creative!**"
   ]
  }
 ],
 "metadata": {
  "kernelspec": {
   "display_name": "base",
   "language": "python",
   "name": "python3"
  },
  "language_info": {
   "codemirror_mode": {
    "name": "ipython",
    "version": 3
   },
   "file_extension": ".py",
   "mimetype": "text/x-python",
   "name": "python",
   "nbconvert_exporter": "python",
   "pygments_lexer": "ipython3",
   "version": "3.12.7"
  }
 },
 "nbformat": 4,
 "nbformat_minor": 5
}
